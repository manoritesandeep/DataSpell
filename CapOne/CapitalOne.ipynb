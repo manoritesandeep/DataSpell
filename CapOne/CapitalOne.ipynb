{
 "cells": [
  {
   "cell_type": "code",
   "execution_count": 1,
   "metadata": {
    "collapsed": true
   },
   "outputs": [],
   "source": [
    "import pandas as pd"
   ]
  },
  {
   "cell_type": "code",
   "execution_count": 3,
   "outputs": [
    {
     "data": {
      "text/plain": "   id        date    time_slot  total_user_time_spent_in_mins  \\\n0   0  2020-06-01  00:00-05:59                         391678   \n1   1           -  06:00-11:59                         310658   \n2   2           -  12:00-17:59                         481794   \n3   3           -  18:00-23:59                         403677   \n4   4  2020-06-02  00:00-05:59                         287230   \n\n   total_ads_watched_in_mins  ads_clicked  user_time_spent_versionB_in_mins  \\\n0                       2628           14                            168421   \n1                      10115           25                            183288   \n2                        177           27                            202353   \n3                      11415           12                            133213   \n4                      21619           20                            195316   \n\n   ads_watched_vesionB_in_mins  ads_clicked_versionB  \n0                         2628                     7  \n1                        10115                     6  \n2                          177                    17  \n3                         9512                     7  \n4                        17587                     8  ",
      "text/html": "<div>\n<style scoped>\n    .dataframe tbody tr th:only-of-type {\n        vertical-align: middle;\n    }\n\n    .dataframe tbody tr th {\n        vertical-align: top;\n    }\n\n    .dataframe thead th {\n        text-align: right;\n    }\n</style>\n<table border=\"1\" class=\"dataframe\">\n  <thead>\n    <tr style=\"text-align: right;\">\n      <th></th>\n      <th>id</th>\n      <th>date</th>\n      <th>time_slot</th>\n      <th>total_user_time_spent_in_mins</th>\n      <th>total_ads_watched_in_mins</th>\n      <th>ads_clicked</th>\n      <th>user_time_spent_versionB_in_mins</th>\n      <th>ads_watched_vesionB_in_mins</th>\n      <th>ads_clicked_versionB</th>\n    </tr>\n  </thead>\n  <tbody>\n    <tr>\n      <th>0</th>\n      <td>0</td>\n      <td>2020-06-01</td>\n      <td>00:00-05:59</td>\n      <td>391678</td>\n      <td>2628</td>\n      <td>14</td>\n      <td>168421</td>\n      <td>2628</td>\n      <td>7</td>\n    </tr>\n    <tr>\n      <th>1</th>\n      <td>1</td>\n      <td>-</td>\n      <td>06:00-11:59</td>\n      <td>310658</td>\n      <td>10115</td>\n      <td>25</td>\n      <td>183288</td>\n      <td>10115</td>\n      <td>6</td>\n    </tr>\n    <tr>\n      <th>2</th>\n      <td>2</td>\n      <td>-</td>\n      <td>12:00-17:59</td>\n      <td>481794</td>\n      <td>177</td>\n      <td>27</td>\n      <td>202353</td>\n      <td>177</td>\n      <td>17</td>\n    </tr>\n    <tr>\n      <th>3</th>\n      <td>3</td>\n      <td>-</td>\n      <td>18:00-23:59</td>\n      <td>403677</td>\n      <td>11415</td>\n      <td>12</td>\n      <td>133213</td>\n      <td>9512</td>\n      <td>7</td>\n    </tr>\n    <tr>\n      <th>4</th>\n      <td>4</td>\n      <td>2020-06-02</td>\n      <td>00:00-05:59</td>\n      <td>287230</td>\n      <td>21619</td>\n      <td>20</td>\n      <td>195316</td>\n      <td>17587</td>\n      <td>8</td>\n    </tr>\n  </tbody>\n</table>\n</div>"
     },
     "execution_count": 3,
     "metadata": {},
     "output_type": "execute_result"
    }
   ],
   "source": [
    "df = pd.read_csv('data2.csv')\n",
    "df.head()"
   ],
   "metadata": {
    "collapsed": false,
    "pycharm": {
     "name": "#%%\n"
    }
   }
  },
  {
   "cell_type": "code",
   "execution_count": null,
   "outputs": [],
   "source": [],
   "metadata": {
    "collapsed": false,
    "pycharm": {
     "name": "#%%\n"
    }
   }
  },
  {
   "cell_type": "code",
   "execution_count": null,
   "outputs": [],
   "source": [],
   "metadata": {
    "collapsed": false,
    "pycharm": {
     "name": "#%%\n"
    }
   }
  }
 ],
 "metadata": {
  "kernelspec": {
   "display_name": "Python 3",
   "language": "python",
   "name": "python3"
  },
  "language_info": {
   "codemirror_mode": {
    "name": "ipython",
    "version": 2
   },
   "file_extension": ".py",
   "mimetype": "text/x-python",
   "name": "python",
   "nbconvert_exporter": "python",
   "pygments_lexer": "ipython2",
   "version": "2.7.6"
  }
 },
 "nbformat": 4,
 "nbformat_minor": 0
}